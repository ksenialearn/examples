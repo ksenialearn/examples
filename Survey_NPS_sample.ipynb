{
 "cells": [
  {
   "cell_type": "code",
   "execution_count": null,
   "metadata": {
    "collapsed": true
   },
   "outputs": [],
   "source": [
    "import pandas as pd\n",
    "import numpy as np\n",
    "import csv as csv\n",
    "import matplotlib.pyplot as plt\n",
    "import codecs"
   ]
  },
  {
   "cell_type": "code",
   "execution_count": null,
   "metadata": {
    "collapsed": false
   },
   "outputs": [],
   "source": [
    "#clean up characters\n",
    "with codecs.open('survey_data.csv', 'r', encoding = 'utf-8', errors = 'ignore') as cdata:\n",
    "    dtframe = pd.read_csv(cdata)"
   ]
  },
  {
   "cell_type": "code",
   "execution_count": null,
   "metadata": {
    "collapsed": false
   },
   "outputs": [],
   "source": [
    "#review data structure\n",
    "dtframe.head(5)"
   ]
  },
  {
   "cell_type": "code",
   "execution_count": null,
   "metadata": {
    "collapsed": false,
    "scrolled": true
   },
   "outputs": [],
   "source": [
    "#Calculate average scores by multiple-choice question, group by location\n",
    "pd.pivot_table(dtframe, index= ['Which location are you based out of?'])"
   ]
  },
  {
   "cell_type": "code",
   "execution_count": null,
   "metadata": {
    "collapsed": false
   },
   "outputs": [],
   "source": [
    "#Review unique values for NPS question, plot distribution\n",
    "\n",
    "uniqueVals = dtframe.ix[:,4].unique()\n",
    "print(uniqueVals)\n",
    "\n",
    "dtframe.ix[:,4].value_counts().plot(kind = 'bar')\n",
    "plt.show()"
   ]
  },
  {
   "cell_type": "code",
   "execution_count": null,
   "metadata": {
    "collapsed": false,
    "scrolled": true
   },
   "outputs": [],
   "source": [
    "#Select location for NPS analysis\n",
    "dtLoc1 = dtframe.loc[dtframe.ix[:,1] == 'Bronx']"
   ]
  },
  {
   "cell_type": "code",
   "execution_count": null,
   "metadata": {
    "collapsed": false
   },
   "outputs": [],
   "source": [
    "#Calculate NPS score\n",
    "\n",
    "nps = dtLoc1.ix[:,4]\n",
    "nps.replace('10 (Highly likely)', '10')\n",
    "nps = nps.convert_objects(convert_numeric = True) \n",
    "\n",
    "location = dtframe.ix[:,1]\n",
    "\n",
    "countProm = nps[nps > 8].count()\n",
    "print('Promoters', countProm)\n",
    "\n",
    "countDet = nps[nps < 7].count()\n",
    "print('Detractors', countDet)\n",
    "\n",
    "countRows = nps.count()\n",
    "\n",
    "countPas = countRows - countProm - countDet\n",
    "print('Passives', countPas)\n",
    "\n",
    "NPS = countProm/countRows - countDet/countRows\n",
    "\n",
    "print('NPS', NPS)"
   ]
  },
  {
   "cell_type": "code",
   "execution_count": null,
   "metadata": {
    "collapsed": false
   },
   "outputs": [],
   "source": [
    "#Calculate core values scores\n",
    "\n",
    "values = dtLoc1.ix[:,28]\n",
    "count = len(values)\n",
    "\n",
    "honesty = 0\n",
    "commitment = 0\n",
    "pride = 0\n",
    "adaptable = 0\n",
    "leadership = 0\n",
    "\n",
    "for row in values:\n",
    "    if 'Honesty' in row:\n",
    "        honesty +=1\n",
    "    if 'Commitment' in row:\n",
    "        commitment +=1\n",
    "    if 'Pride' in row:\n",
    "        pride += 1\n",
    "    if 'Adaptable' in row:\n",
    "        adaptable += 1\n",
    "    if 'Leadership' in row:\n",
    "        leadership += 1\n",
    "        \n",
    "print ('Honesty:', honesty/count, '\\nCommitment:', commitment/count, '\\nPride:', pride/count, '\\nAdaptable:', \n",
    "       adaptable/count, '\\nLeadership:', leadership/count)"
   ]
  }
 ],
 "metadata": {
  "kernelspec": {
   "display_name": "Python 3",
   "language": "python",
   "name": "python3"
  },
  "language_info": {
   "codemirror_mode": {
    "name": "ipython",
    "version": 3
   },
   "file_extension": ".py",
   "mimetype": "text/x-python",
   "name": "python",
   "nbconvert_exporter": "python",
   "pygments_lexer": "ipython3",
   "version": "3.6.0"
  }
 },
 "nbformat": 4,
 "nbformat_minor": 2
}
